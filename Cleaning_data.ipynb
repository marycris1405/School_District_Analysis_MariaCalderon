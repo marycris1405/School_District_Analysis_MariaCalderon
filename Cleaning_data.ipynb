{
 "cells": [
  {
   "cell_type": "code",
   "execution_count": null,
   "metadata": {},
   "outputs": [],
   "source": [
    "#### Handle Missing Data ####\n",
    "\n",
    "#Add the pandas dependency\n",
    "import pandas as pd\n",
    "\n",
    "#files to load\n",
    "file_to_load= os.path.join(\"Resources\",\"missing_grades.csv\")\n",
    "\n",
    "#Read the CSV into DataFrame\n",
    "missing_grade_df= pd.read_csv(file_to_load)\n",
    "missing_grade_df"
   ]
  },
  {
   "cell_type": "code",
   "execution_count": null,
   "metadata": {},
   "outputs": [],
   "source": [
    "#### Handle Missing Data ####\n",
    "# Option 1: Do Nothing\n",
    "# Option 2: Drop the Row\n",
    "# Option 3: Fill in the Row"
   ]
  },
  {
   "cell_type": "code",
   "execution_count": null,
   "metadata": {},
   "outputs": [],
   "source": [
    "#### Handle Missing Data ####\n",
    "# Option 2: Drop the Row\n",
    "\n",
    "#Drop the NaNs\n",
    "missing_grade_df.dropna()"
   ]
  },
  {
   "cell_type": "code",
   "execution_count": null,
   "metadata": {},
   "outputs": [],
   "source": [
    "#### Handle Missing Data ####\n",
    "# Option 3: Fill in the Row\n",
    "\n",
    "#Fill in the empty rows with \"85\"\n",
    "missing_grade_df.fillna(85)"
   ]
  }
 ],
 "metadata": {
  "kernelspec": {
   "display_name": "PythonData",
   "language": "python",
   "name": "pythondata"
  },
  "language_info": {
   "codemirror_mode": {
    "name": "ipython",
    "version": 3
   },
   "file_extension": ".py",
   "mimetype": "text/x-python",
   "name": "python",
   "nbconvert_exporter": "python",
   "pygments_lexer": "ipython3",
   "version": "3.6.8"
  }
 },
 "nbformat": 4,
 "nbformat_minor": 2
}
